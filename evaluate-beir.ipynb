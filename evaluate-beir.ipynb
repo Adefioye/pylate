{
 "cells": [
  {
   "cell_type": "code",
   "execution_count": 5,
   "id": "d24e27fa",
   "metadata": {},
   "outputs": [
    {
     "name": "stderr",
     "output_type": "stream",
     "text": [
      "./evaluation_datasets/scifact.zip: 100%|██████████| 2.69M/2.69M [00:00<00:00, 2.89MiB/s]\n",
      "100%|██████████| 5183/5183 [00:00<00:00, 209729.36it/s]\n",
      "Encoding documents (bs=32): 100%|██████████| 162/162 [03:58<00:00,  1.47s/it]\n",
      "Adding documents to the index (bs=2000): 100%|██████████| 3/3 [00:22<00:00,  7.66s/it]\n",
      "Encoding queries (bs=32): 100%|██████████| 10/10 [00:01<00:00,  6.07it/s]\n",
      "Retrieving documents (bs=50):  86%|████████▌ | 6/7 [01:09<00:11, 11.57s/it]"
     ]
    },
    {
     "name": "stdout",
     "output_type": "stream",
     "text": [
      "{'ndcg@1': np.float64(0.6066666666666667), 'ndcg@3': np.float64(0.6942010170870506), 'ndcg@5': np.float64(0.716427828679468), 'ndcg@10': np.float64(0.7324129787189755), 'recall@10': np.float64(0.8562222222222222), 'recall@100': np.float64(0.9610000000000001), 'precision@10': np.float64(0.09633333333333333), 'precision@100': np.float64(0.010866666666666667)}\n"
     ]
    },
    {
     "name": "stderr",
     "output_type": "stream",
     "text": [
      "\n"
     ]
    }
   ],
   "source": [
    "from pylate import evaluation, indexes, models, retrieve\n",
    "\n",
    "# Step 1: Initialize the ColBERT model\n",
    "\n",
    "dataset = \"scifact\" # Choose the dataset you want to evaluate\n",
    "model = models.ColBERT(\n",
    "    model_name_or_path=\"lightonai/GTE-ModernColBERT-v1\",\n",
    "    device=\"cpu\" # \"cpu\" or \"cuda\" or \"mps\"\n",
    ")\n",
    "\n",
    "# Step 2: Create a Voyager index\n",
    "index = indexes.Voyager(\n",
    "    index_folder=\"pylate-index\",\n",
    "    index_name=dataset,\n",
    "    override=True,  # Overwrite any existing index\n",
    ")\n",
    "\n",
    "# Step 3: Load the documents, queries, and relevance judgments (qrels)\n",
    "documents, queries, qrels = evaluation.load_beir(\n",
    "    dataset,  # Specify the dataset (e.g., \"scifact\")\n",
    "    split=\"test\",  # Specify the split (e.g., \"test\")\n",
    ")\n",
    "\n",
    "# Step 4: Encode the documents\n",
    "documents_embeddings = model.encode(\n",
    "    [document[\"text\"] for document in documents],\n",
    "    batch_size=32,\n",
    "    is_query=False,  # Indicate that these are documents\n",
    "    show_progress_bar=True,\n",
    ")\n",
    "\n",
    "# Step 5: Add document embeddings to the index\n",
    "index.add_documents(\n",
    "    documents_ids=[document[\"id\"] for document in documents],\n",
    "    documents_embeddings=documents_embeddings,\n",
    ")\n",
    "\n",
    "# Step 6: Encode the queries\n",
    "queries_embeddings = model.encode(\n",
    "    queries,\n",
    "    batch_size=32,\n",
    "    is_query=True,  # Indicate that these are queries\n",
    "    show_progress_bar=True,\n",
    ")\n",
    "\n",
    "# Step 7: Retrieve top-k documents\n",
    "retriever = retrieve.ColBERT(index=index)\n",
    "scores = retriever.retrieve(\n",
    "    queries_embeddings=queries_embeddings,\n",
    "    k=100,  # Retrieve the top 100 matches for each query\n",
    ")\n",
    "\n",
    "# Step 8: Evaluate the retrieval results\n",
    "results = evaluation.evaluate(\n",
    "    scores=scores,\n",
    "    qrels=qrels,\n",
    "    queries=queries,\n",
    "    metrics=[f\"ndcg@{k}\" for k in [1, 3, 5, 10]] # NDCG for different k values                                     # Mean Average Precision (MAP)\n",
    "    + [\"recall@10\", \"recall@100\"]                     # Recall at k\n",
    "    + [\"precision@10\", \"precision@100\"],              # Precision at k\n",
    ")\n",
    "\n",
    "print(results)"
   ]
  },
  {
   "cell_type": "code",
   "execution_count": null,
   "id": "84cc66b5",
   "metadata": {},
   "outputs": [],
   "source": []
  }
 ],
 "metadata": {
  "kernelspec": {
   "display_name": "Python (pylate-experiment)",
   "language": "python",
   "name": "pylate-experiment"
  },
  "language_info": {
   "codemirror_mode": {
    "name": "ipython",
    "version": 3
   },
   "file_extension": ".py",
   "mimetype": "text/x-python",
   "name": "python",
   "nbconvert_exporter": "python",
   "pygments_lexer": "ipython3",
   "version": "3.10.18"
  }
 },
 "nbformat": 4,
 "nbformat_minor": 5
}
